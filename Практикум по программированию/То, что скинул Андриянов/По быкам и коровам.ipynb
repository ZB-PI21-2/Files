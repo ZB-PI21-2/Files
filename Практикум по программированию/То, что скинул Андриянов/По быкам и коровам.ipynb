{
 "cells": [
  {
   "cell_type": "code",
   "execution_count": 10,
   "id": "e8139ed0",
   "metadata": {},
   "outputs": [
    {
     "name": "stdout",
     "output_type": "stream",
     "text": [
      "['2', '4', '9', '0']\n",
      "Введите 4-значное число2930\n",
      "['2', '9', '3', '0']\n",
      "2\n",
      "1\n"
     ]
    }
   ],
   "source": [
    "#1  датчик случайных чисел сгенерировать число\n",
    "import random\n",
    "ls = []\n",
    "while len(ls)<4:\n",
    "    a = str(random.randint(0,9))\n",
    "    if a not in ls:\n",
    "        ls.append(str(a))\n",
    "print(ls)\n",
    "# 2 запрос числа у пользователя + добавить проверки делается в while, пока не введет правильно\n",
    "user = input('Введите 4-значное число')\n",
    "lsu = [user[0], user[1], user[2], user[3]]\n",
    "print(lsu)\n",
    "#3 логика игры, пока не угадает число\n",
    "cows = 0\n",
    "bulls = 0\n",
    "for i in range(len(ls)):\n",
    "    if ls[i]==lsu[i]:\n",
    "        bulls +=1\n",
    "print(bulls)\n",
    "\n",
    "for i in lsu:\n",
    "    if i in ls:\n",
    "        cows +=1\n",
    "cows = cows - bulls\n",
    "print(cows)"
   ]
  },
  {
   "cell_type": "markdown",
   "id": "fd0867d2",
   "metadata": {},
   "source": [
    "Крестики-нолики"
   ]
  },
  {
   "cell_type": "code",
   "execution_count": 21,
   "id": "e77e207f",
   "metadata": {},
   "outputs": [
    {
     "name": "stdout",
     "output_type": "stream",
     "text": [
      "() () () \n",
      "() () () \n",
      "() () () \n",
      "Ход крестика, введите координаты через пробел: 0 0\n",
      "<built-in method split of str object at 0x00000259E7E3BD70>\n",
      "X () () \n",
      "() () () \n",
      "() () () \n"
     ]
    }
   ],
   "source": [
    "#отрисовка\n",
    "field = [['()', '()', '()'], ['()', '()', '()'], ['()', '()', '()']]\n",
    "for i in range(3):\n",
    "    for j in field[i]:\n",
    "        print(j, end=' ')\n",
    "    print()\n",
    "#vvod coordinat - зациклить пока не займут или кто-то не выиграет раньше\n",
    "a = 0\n",
    "if a%2 == 0:\n",
    "    x = input('Ход крестика, введите координаты через пробел: ')\n",
    "    print(x.split)\n",
    "    r, c = int(x.split()[0]), int(x.split()[1])\n",
    "    if r>=0 and r<3 and c>=0 and c<3:\n",
    "        if field[r][c]=='()':\n",
    "            field[r][c]='X'\n",
    "            a = a+1\n",
    "elif a%2==1:\n",
    "    o = input('Ход крестика, введите координаты через пробел: ')\n",
    "    print(x.split)\n",
    "    r, c = int(x.split()[0]), int(x.split()[1])\n",
    "    if r>=0 and r<3 and c>=0 and c<3:\n",
    "        if field[r][c]=='()':\n",
    "            field[r][c]='0'\n",
    "            a = a+1\n",
    "    #print(r,c)\n",
    "for i in range(3):\n",
    "    for j in field[i]:\n",
    "        print(j, end=' ')\n",
    "    print()"
   ]
  },
  {
   "cell_type": "code",
   "execution_count": 16,
   "id": "90af21e2",
   "metadata": {},
   "outputs": [],
   "source": [
    "def square(a):\n",
    "    a=a**2\n",
    "    print(a)"
   ]
  },
  {
   "cell_type": "code",
   "execution_count": 17,
   "id": "f68a4e30",
   "metadata": {},
   "outputs": [
    {
     "name": "stdout",
     "output_type": "stream",
     "text": [
      "100\n"
     ]
    }
   ],
   "source": [
    "square(10)"
   ]
  },
  {
   "cell_type": "code",
   "execution_count": 18,
   "id": "e2b3c67e",
   "metadata": {},
   "outputs": [
    {
     "name": "stdout",
     "output_type": "stream",
     "text": [
      "400\n"
     ]
    }
   ],
   "source": [
    "square(20)"
   ]
  },
  {
   "cell_type": "code",
   "execution_count": null,
   "id": "dd5e7921",
   "metadata": {},
   "outputs": [],
   "source": []
  }
 ],
 "metadata": {
  "kernelspec": {
   "display_name": "Python 3",
   "language": "python",
   "name": "python3"
  },
  "language_info": {
   "codemirror_mode": {
    "name": "ipython",
    "version": 3
   },
   "file_extension": ".py",
   "mimetype": "text/x-python",
   "name": "python",
   "nbconvert_exporter": "python",
   "pygments_lexer": "ipython3",
   "version": "3.8.10"
  }
 },
 "nbformat": 4,
 "nbformat_minor": 5
}
